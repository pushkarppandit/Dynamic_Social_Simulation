{
 "cells": [
  {
   "cell_type": "code",
   "execution_count": 1,
   "metadata": {},
   "outputs": [],
   "source": [
    "import numpy as np\n",
    "import matplotlib.pyplot as plt\n",
    "import copy"
   ]
  },
  {
   "cell_type": "code",
   "execution_count": 2,
   "metadata": {},
   "outputs": [],
   "source": [
    "class person:\n",
    "    def __init__(self,\n",
    "                 name,\n",
    "                 config\n",
    "                ):\n",
    "        self.name = name\n",
    "        \n",
    "        if config['type']=='manual':\n",
    "            assert max(config['personality'])<=1 and min(config['personality'])>=0, \"all dimensions of personality should be between 0 and 1\"\n",
    "            assert max(config['impressionability'])<=1 and min(config['impressionability'])>=0, \"all dimensions of impressionability should be between 0 and 1\"\n",
    "            \n",
    "            self.personality = config['personality']\n",
    "            self.impressionability = config['impressionability']\n",
    "            \n",
    "        elif config['type']=='random':\n",
    "            self.personality = 2*config['rng'].beta(config['pers_a'],config['pers_b'],size=config['personality_dim']) - 1\n",
    "            self.impressionability = config['rng'].beta(config['impr_a'],config['impr_b'],size=config['personality_dim'])\n",
    "        \n",
    "        else:\n",
    "            raise Exception(\"config_type can only be manual or random\")\n",
    "            \n",
    "        \n",
    "    def develop_personality(self,update_v):\n",
    "        self.personality = np.clip((1-self.impressionability)*self.personality + self.impressionability*update_v,-1,1)\n",
    "        "
   ]
  },
  {
   "cell_type": "code",
   "execution_count": 3,
   "metadata": {},
   "outputs": [],
   "source": [
    "rng = np.random.default_rng()"
   ]
  },
  {
   "cell_type": "code",
   "execution_count": 4,
   "metadata": {},
   "outputs": [],
   "source": [
    "random_config_1 = {'type':'random','rng':rng,'pers_a':0.7,'pers_b':0.7,'impr_a':0.3,'impr_b':1,'personality_dim':4}"
   ]
  },
  {
   "cell_type": "code",
   "execution_count": 5,
   "metadata": {},
   "outputs": [],
   "source": [
    "p1 = person('1',random_config_1)\n",
    "p2 = person('2',random_config_1)"
   ]
  },
  {
   "cell_type": "code",
   "execution_count": 6,
   "metadata": {},
   "outputs": [
    {
     "data": {
      "text/plain": [
       "(array([ 0.31013451,  0.13725194, -0.42570614, -0.4465121 ]),\n",
       " array([0.21219594, 0.06721085, 0.02090854, 0.02943082]))"
      ]
     },
     "execution_count": 6,
     "metadata": {},
     "output_type": "execute_result"
    }
   ],
   "source": [
    "p1.personality,p1.impressionability"
   ]
  },
  {
   "cell_type": "code",
   "execution_count": 7,
   "metadata": {},
   "outputs": [
    {
     "data": {
      "text/plain": [
       "(array([-0.22982391, -0.67368089,  0.47498809, -0.82268489]),\n",
       " array([0.96557572, 0.0404615 , 0.00820696, 0.12374896]))"
      ]
     },
     "execution_count": 7,
     "metadata": {},
     "output_type": "execute_result"
    }
   ],
   "source": [
    "p2.personality,p2.impressionability"
   ]
  },
  {
   "cell_type": "code",
   "execution_count": 8,
   "metadata": {},
   "outputs": [
    {
     "data": {
      "text/plain": [
       "(0.7040030417299984, 1.1870505799481006)"
      ]
     },
     "execution_count": 8,
     "metadata": {},
     "output_type": "execute_result"
    }
   ],
   "source": [
    "np.linalg.norm(p1.personality),np.linalg.norm(p2.personality)"
   ]
  },
  {
   "cell_type": "code",
   "execution_count": 9,
   "metadata": {},
   "outputs": [],
   "source": [
    "def sigmoid(x):\n",
    "    return 1 / (1 + np.exp(-5*x))"
   ]
  },
  {
   "cell_type": "code",
   "execution_count": 10,
   "metadata": {},
   "outputs": [
    {
     "data": {
      "text/plain": [
       "0.0066928509242848554"
      ]
     },
     "execution_count": 10,
     "metadata": {},
     "output_type": "execute_result"
    }
   ],
   "source": [
    "sigmoid(-1)"
   ]
  },
  {
   "cell_type": "code",
   "execution_count": 11,
   "metadata": {},
   "outputs": [
    {
     "data": {
      "text/plain": [
       "(0.001393075567052704, 0.5017413374185234)"
      ]
     },
     "execution_count": 11,
     "metadata": {},
     "output_type": "execute_result"
    }
   ],
   "source": [
    "np.dot(p1.personality,p2.personality),sigmoid(np.dot(p1.personality,p2.personality))"
   ]
  },
  {
   "cell_type": "code",
   "execution_count": 12,
   "metadata": {},
   "outputs": [],
   "source": [
    "p1.develop_personality(p2.personality)"
   ]
  },
  {
   "cell_type": "code",
   "execution_count": 13,
   "metadata": {},
   "outputs": [],
   "source": [
    "pers_array = np.zeros((2,4))"
   ]
  },
  {
   "cell_type": "code",
   "execution_count": 14,
   "metadata": {},
   "outputs": [],
   "source": [
    "pers_array[0,:] = p1.personality\n",
    "pers_array[1,:] = p2.personality"
   ]
  },
  {
   "cell_type": "code",
   "execution_count": 15,
   "metadata": {},
   "outputs": [
    {
     "data": {
      "text/plain": [
       "array([[ 0.19555752,  0.08274846, -0.40687394, -0.45758318],\n",
       "       [-0.22982391, -0.67368089,  0.47498809, -0.82268489]])"
      ]
     },
     "execution_count": 15,
     "metadata": {},
     "output_type": "execute_result"
    }
   ],
   "source": [
    "pers_array"
   ]
  },
  {
   "cell_type": "code",
   "execution_count": 16,
   "metadata": {},
   "outputs": [
    {
     "data": {
      "text/plain": [
       "0.42001881384034756"
      ]
     },
     "execution_count": 16,
     "metadata": {},
     "output_type": "execute_result"
    }
   ],
   "source": [
    "np.linalg.norm(p1.personality)**2"
   ]
  },
  {
   "cell_type": "code",
   "execution_count": 17,
   "metadata": {},
   "outputs": [],
   "source": [
    "bonds = sigmoid(np.matmul(pers_array,p1.personality))"
   ]
  },
  {
   "cell_type": "code",
   "execution_count": 18,
   "metadata": {},
   "outputs": [],
   "source": [
    "bonds[0] = 0"
   ]
  },
  {
   "cell_type": "code",
   "execution_count": 19,
   "metadata": {},
   "outputs": [
    {
     "data": {
      "text/plain": [
       "array([0.        , 0.60168316])"
      ]
     },
     "execution_count": 19,
     "metadata": {},
     "output_type": "execute_result"
    }
   ],
   "source": [
    "bonds\n"
   ]
  },
  {
   "cell_type": "code",
   "execution_count": 20,
   "metadata": {},
   "outputs": [
    {
     "data": {
      "text/plain": [
       "array([-0.22982391, -0.67368089,  0.47498809, -0.82268489])"
      ]
     },
     "execution_count": 20,
     "metadata": {},
     "output_type": "execute_result"
    }
   ],
   "source": [
    "(bonds.reshape((2,1))*pers_array).sum(axis=0)/bonds.sum()"
   ]
  },
  {
   "cell_type": "code",
   "execution_count": 21,
   "metadata": {},
   "outputs": [
    {
     "data": {
      "text/plain": [
       "array([0.21219594, 0.06721085, 0.02090854, 0.02943082])"
      ]
     },
     "execution_count": 21,
     "metadata": {},
     "output_type": "execute_result"
    }
   ],
   "source": [
    "p1.impressionability"
   ]
  },
  {
   "cell_type": "code",
   "execution_count": 22,
   "metadata": {},
   "outputs": [
    {
     "data": {
      "text/plain": [
       "array([ 0.19555752,  0.08274846, -0.40687394, -0.45758318])"
      ]
     },
     "execution_count": 22,
     "metadata": {},
     "output_type": "execute_result"
    }
   ],
   "source": [
    "p1.personality"
   ]
  },
  {
   "cell_type": "code",
   "execution_count": 23,
   "metadata": {},
   "outputs": [],
   "source": [
    "p1.develop_personality((bonds.reshape((2,1))*pers_array).sum(axis=0)/bonds.sum())"
   ]
  },
  {
   "cell_type": "code",
   "execution_count": 24,
   "metadata": {},
   "outputs": [
    {
     "data": {
      "text/plain": [
       "array([ 0.10529331,  0.0319082 , -0.38843548, -0.46832842])"
      ]
     },
     "execution_count": 24,
     "metadata": {},
     "output_type": "execute_result"
    }
   ],
   "source": [
    "p1.personality"
   ]
  },
  {
   "cell_type": "code",
   "execution_count": 154,
   "metadata": {},
   "outputs": [],
   "source": [
    "class group:\n",
    "    def __init__(self,\n",
    "                 person_config,pop_size,rng,independence=5,learning_rate=0.01\n",
    "                ):\n",
    "        \n",
    "        self.independence=independence\n",
    "        ppl = {}\n",
    "        for i in range(pop_size):\n",
    "            ppl[i] = person(i,person_config)\n",
    "            \n",
    "        self.people=ppl\n",
    "        self.pop_size=pop_size\n",
    "        self.learning_rate=learning_rate\n",
    "        \n",
    "        self.pers_array = np.zeros((pop_size,person_config['personality_dim']))\n",
    "        for n,p in ppl.items():\n",
    "            self.pers_array[n,:] = p.personality\n",
    "            \n",
    "        self.impr_array = np.zeros((pop_size,person_config['personality_dim']))\n",
    "        for n,p in ppl.items():\n",
    "            self.impr_array[n,:] = p.impressionability\n",
    "        \n",
    "        self.bonds = self.sigmoid(np.matmul(self.pers_array,self.pers_array.T))\n",
    "        \n",
    "        self.pers_array_history=[copy.deepcopy(self.pers_array)]\n",
    "        self.bonds_history=[copy.deepcopy(self.bonds)]\n",
    "            \n",
    "    def sigmoid(self,x):\n",
    "        return 1 / (1 + np.exp(-self.independence*x))    \n",
    "        \n",
    "        \n",
    "    def interact(self):\n",
    "        update_vs = []\n",
    "#         for n,p in self.people.items():\n",
    "#             bonds = self.sigmoid(np.matmul(self.pers_array,p.personality)).reshape((self.pop_size,1))\n",
    "#             bonds[n] = 0\n",
    "#             update_v = (bonds*self.pers_array).sum(axis=0)/bonds.sum()\n",
    "#             update_vs.append(update_v)\n",
    "        \n",
    "#         print(update_vs)\n",
    "#         self.bonds = self.sigmoid(np.matmul(self.pers_array,self.pers_array.T))\n",
    "        self.bonds = np.matmul(self.pers_array,self.pers_array.T)\n",
    "        np.fill_diagonal(self.bonds,0)\n",
    "        self.bonds_history.append(copy.deepcopy(self.bonds))\n",
    "        \n",
    "        update_vs = np.matmul(self.bonds,self.pers_array)/self.bonds.sum(axis=1,keepdims=True)\n",
    "        \n",
    "        for n,p in self.people.items():\n",
    "            p.develop_personality(self.learning_rate*update_vs[n])\n",
    "            self.pers_array[n,:] = p.personality\n",
    "        \n",
    "        \n",
    "    \n",
    "        self.pers_array_history.append(copy.deepcopy(self.pers_array))\n",
    "        \n",
    "    def set_impr_array(self,impr_array_new):\n",
    "        self.impr_array=copy.deepcopy(impr_array_new)\n",
    "        for n,p in self.people.items():\n",
    "            p.impressionability = copy.deepcopy(impr_array_new[n,:])\n",
    "            \n",
    "    def set_pers_array(self,pers_array_new):\n",
    "        self.pers_array=copy.deepcopy(pers_array_new)\n",
    "        for n,p in self.people.items():\n",
    "            p.personality = copy.deepcopy(pers_array_new[n,:])\n",
    "            \n",
    "        self.bonds = self.sigmoid(np.matmul(self.pers_array,self.pers_array.T))\n",
    "        \n",
    "        self.pers_array_history=[copy.deepcopy(self.pers_array)]\n",
    "        self.bonds_history=[copy.deepcopy(self.bonds)]\n",
    "            \n",
    "    def run_sim(self,num_iter,verbose=False):\n",
    "        print(\"Beginning simulation. Will run for {} iterations\".format(num_iter))\n",
    "        print(\"Initial pers_array:\")\n",
    "        print(self.pers_array)\n",
    "        for i in range(num_iter):\n",
    "            self.interact()\n",
    "            if verbose:\n",
    "                print(\"pers_array after iteration {}:\".format(i))\n",
    "                print(self.pers_array)\n",
    "        print(\"pers_array after simulation for {} iterations:\".format(i))\n",
    "        print(self.pers_array)"
   ]
  },
  {
   "cell_type": "code",
   "execution_count": 26,
   "metadata": {},
   "outputs": [],
   "source": [
    "random_config_1 = {'type':'random','rng':rng,'pers_a':0.7,'pers_b':0.7,'impr_a':0.3,'impr_b':1,'personality_dim':10}\n",
    "grp_1 = group(random_config_1,10,rng,independence=1,learning_rate=1)"
   ]
  },
  {
   "cell_type": "code",
   "execution_count": 27,
   "metadata": {},
   "outputs": [
    {
     "name": "stdout",
     "output_type": "stream",
     "text": [
      "Beginning simulation. Will run for 10000 iterations\n",
      "Initial pers_array:\n",
      "[[ 0.90630177  0.89211541 -0.8496438   0.08135969  0.95795733  0.54832488\n",
      "  -0.97844014  0.30989672 -0.14577154  0.5950439 ]\n",
      " [ 0.65880686  0.33942382 -0.73988303 -0.96296926 -0.44038162 -0.45088577\n",
      "  -0.29516345 -0.32613284 -0.1643317   0.14747146]\n",
      " [-0.87869898  0.47097666  0.7996371   0.55483875  0.81794014  0.944168\n",
      "   0.36344269  0.49178348 -0.00859855 -0.86407743]\n",
      " [-0.99932646  0.12578504  0.75433012  0.30032882 -0.97499849  0.98879816\n",
      "  -0.08051809 -0.15683843  0.49594088  0.80008948]\n",
      " [ 0.81764046  0.80602581  0.58292737 -0.91859443 -0.96701723  0.63452647\n",
      "   0.88000668  0.41998646 -0.63167984  0.48857347]\n",
      " [ 0.65380717  0.65525836  0.97491043  0.53311088 -0.89107357 -0.19048018\n",
      "  -0.45804452  0.60159085  0.97727072 -0.40739499]\n",
      " [ 0.99178328  0.58605878  0.34476513  0.16781094  0.53814383  0.53539188\n",
      "  -0.8365071  -0.27268351 -0.51453627  0.97798153]\n",
      " [ 0.89834613  0.7679516   0.1700529  -0.03088882 -0.95703825 -0.67523294\n",
      "   0.63103822 -0.13429024 -0.58316709  0.02509244]\n",
      " [ 0.99982979  0.59163279  0.26775117 -0.94531397 -0.62419054  0.82613737\n",
      "   0.98152483  0.27265268  0.89144748 -0.99962495]\n",
      " [ 0.35152609 -0.93416315  0.41421633  0.95287245 -0.87320732  0.92302713\n",
      "   0.15284644 -0.72584736  0.29738616  0.80492301]]\n",
      "pers_array after simulation for 9999 iterations:\n",
      "[[ 0.37664083  0.58803277  0.26712264 -0.64490957 -0.87718624  0.92615898\n",
      "   0.36280178 -0.13422149 -0.02109307 -0.99946479]\n",
      " [ 0.37664083  0.58803277  0.26712264 -0.64488389 -0.87711795  0.92615995\n",
      "   0.36280178 -0.13421802 -0.02109275 -0.99946439]\n",
      " [ 0.37664083  0.58803277  0.26712264 -0.64490331 -0.87718399  0.92639607\n",
      "   0.36280178 -0.13418114 -0.02109304 -0.99932122]\n",
      " [ 0.37664083  0.58803277  0.26712264 -0.64489715 -0.87718766  0.92615975\n",
      "   0.36280178 -0.13421797 -0.02109317 -0.99946455]\n",
      " [ 0.37664083  0.58803277  0.26712264 -0.72946889 -0.87717733  0.92614303\n",
      "   0.36280178 -0.13422059 -0.02109315 -0.99946469]\n",
      " [ 0.37664083  0.58803277  0.26712264 -0.64388132 -0.89106393  0.92597892\n",
      "   0.36280178 -0.13421967 -0.0210903  -0.99946424]\n",
      " [ 0.37664083  0.58803277  0.26712264 -0.56124912 -0.8744706   0.92612607\n",
      "   0.36280178 -0.1342215  -0.02109683 -0.99946443]\n",
      " [ 0.37664083  0.58803277  0.26712264 -0.64491247 -0.86610852  0.92616001\n",
      "   0.36280178 -0.13427239 -0.02109315 -0.99946466]\n",
      " [ 0.37664083  0.58803277  0.26712264 -0.64269848 -0.87718194  0.92615951\n",
      "   0.36280178 -0.13422149 -0.02109315 -0.99961865]\n",
      " [ 0.37664083  0.58803277  0.26712264 -0.64490417 -0.87710317  0.92615982\n",
      "   0.36280178 -0.13422149 -0.02109317 -0.99945752]]\n"
     ]
    }
   ],
   "source": [
    "grp_1.run_sim(10000)"
   ]
  },
  {
   "cell_type": "code",
   "execution_count": 28,
   "metadata": {},
   "outputs": [],
   "source": [
    "pers_array_hist_1 = np.array(grp_1.pers_array_history)"
   ]
  },
  {
   "cell_type": "code",
   "execution_count": 29,
   "metadata": {},
   "outputs": [
    {
     "data": {
      "text/plain": [
       "(10001, 10, 10)"
      ]
     },
     "execution_count": 29,
     "metadata": {},
     "output_type": "execute_result"
    }
   ],
   "source": [
    "pers_array_hist_1.shape"
   ]
  },
  {
   "cell_type": "code",
   "execution_count": 30,
   "metadata": {},
   "outputs": [],
   "source": [
    "# pers_array_hist_1[:,0,:]"
   ]
  },
  {
   "cell_type": "code",
   "execution_count": 31,
   "metadata": {},
   "outputs": [
    {
     "data": {
      "text/plain": [
       "[<matplotlib.lines.Line2D at 0x241398d1ac8>]"
      ]
     },
     "execution_count": 31,
     "metadata": {},
     "output_type": "execute_result"
    },
    {
     "data": {
      "image/png": "[encoded data removed]",
      "text/plain": [
       "<Figure size 432x288 with 1 Axes>"
      ]
     },
     "metadata": {
      "needs_background": "light"
     },
     "output_type": "display_data"
    }
   ],
   "source": [
    "pers_idx=0\n",
    "plt.scatter(pers_array_hist_1[:,pers_idx,0],pers_array_hist_1[:,pers_idx,1],alpha=0.01)\n",
    "plt.plot(pers_array_hist_1[:,pers_idx,0],pers_array_hist_1[:,pers_idx,1],alpha=0.5)"
   ]
  },
  {
   "cell_type": "code",
   "execution_count": 32,
   "metadata": {},
   "outputs": [
    {
     "data": {
      "text/plain": [
       "[<matplotlib.lines.Line2D at 0x2413d2b5ef0>]"
      ]
     },
     "execution_count": 32,
     "metadata": {},
     "output_type": "execute_result"
    },
    {
     "data": {
      "image/png": "[encoded data removed]",
      "text/plain": [
       "<Figure size 432x288 with 1 Axes>"
      ]
     },
     "metadata": {
      "needs_background": "light"
     },
     "output_type": "display_data"
    }
   ],
   "source": [
    "pers_idx=1\n",
    "plt.scatter(pers_array_hist_1[:,pers_idx,0],pers_array_hist_1[:,pers_idx,1],alpha=0.01)\n",
    "plt.plot(pers_array_hist_1[:,pers_idx,0],pers_array_hist_1[:,pers_idx,1],alpha=0.5)"
   ]
  },
  {
   "cell_type": "code",
   "execution_count": 33,
   "metadata": {},
   "outputs": [
    {
     "data": {
      "text/plain": [
       "[<matplotlib.lines.Line2D at 0x2413d33a0f0>]"
      ]
     },
     "execution_count": 33,
     "metadata": {},
     "output_type": "execute_result"
    },
    {
     "data": {
      "image/png": "[encoded data removed]",
      "text/plain": [
       "<Figure size 432x288 with 1 Axes>"
      ]
     },
     "metadata": {
      "needs_background": "light"
     },
     "output_type": "display_data"
    }
   ],
   "source": [
    "pers_idx=2\n",
    "plt.scatter(pers_array_hist_1[:,pers_idx,0],pers_array_hist_1[:,pers_idx,1],alpha=0.01)\n",
    "plt.plot(pers_array_hist_1[:,pers_idx,0],pers_array_hist_1[:,pers_idx,1],alpha=0.5)"
   ]
  },
  {
   "cell_type": "code",
   "execution_count": 34,
   "metadata": {},
   "outputs": [
    {
     "data": {
      "text/plain": [
       "[<matplotlib.lines.Line2D at 0x2413d375080>]"
      ]
     },
     "execution_count": 34,
     "metadata": {},
     "output_type": "execute_result"
    },
    {
     "data": {
      "image/png": "[encoded data removed]",
      "text/plain": [
       "<Figure size 432x288 with 1 Axes>"
      ]
     },
     "metadata": {
      "needs_background": "light"
     },
     "output_type": "display_data"
    }
   ],
   "source": [
    "pers_idx=5\n",
    "plt.scatter(pers_array_hist_1[:,pers_idx,0],pers_array_hist_1[:,pers_idx,1],alpha=0.01)\n",
    "plt.plot(pers_array_hist_1[:,pers_idx,0],pers_array_hist_1[:,pers_idx,1],alpha=0.5)"
   ]
  },
  {
   "cell_type": "code",
   "execution_count": 35,
   "metadata": {},
   "outputs": [
    {
     "data": {
      "text/plain": [
       "array([ 0.44000161,  0.43010651,  0.27190637, -0.02674449, -0.34138657,\n",
       "        0.4083775 ,  0.03601856,  0.04801178,  0.06139602,  0.15680779])"
      ]
     },
     "execution_count": 35,
     "metadata": {},
     "output_type": "execute_result"
    }
   ],
   "source": [
    "pers_array_hist_1[0,:,:].mean(axis=0)"
   ]
  },
  {
   "cell_type": "code",
   "execution_count": 36,
   "metadata": {},
   "outputs": [
    {
     "data": {
      "text/plain": [
       "array([[ 0.37664083,  0.58803277,  0.26712264, -0.64490957, -0.87718624,\n",
       "         0.92615898,  0.36280178, -0.13422149, -0.02109307, -0.99946479],\n",
       "       [ 0.37664083,  0.58803277,  0.26712264, -0.64488389, -0.87711795,\n",
       "         0.92615995,  0.36280178, -0.13421802, -0.02109275, -0.99946439],\n",
       "       [ 0.37664083,  0.58803277,  0.26712264, -0.64490331, -0.87718399,\n",
       "         0.92639607,  0.36280178, -0.13418114, -0.02109304, -0.99932122],\n",
       "       [ 0.37664083,  0.58803277,  0.26712264, -0.64489715, -0.87718766,\n",
       "         0.92615975,  0.36280178, -0.13421797, -0.02109317, -0.99946455],\n",
       "       [ 0.37664083,  0.58803277,  0.26712264, -0.72946889, -0.87717733,\n",
       "         0.92614303,  0.36280178, -0.13422059, -0.02109315, -0.99946469],\n",
       "       [ 0.37664083,  0.58803277,  0.26712264, -0.64388132, -0.89106393,\n",
       "         0.92597892,  0.36280178, -0.13421967, -0.0210903 , -0.99946424],\n",
       "       [ 0.37664083,  0.58803277,  0.26712264, -0.56124912, -0.8744706 ,\n",
       "         0.92612607,  0.36280178, -0.1342215 , -0.02109683, -0.99946443],\n",
       "       [ 0.37664083,  0.58803277,  0.26712264, -0.64491247, -0.86610852,\n",
       "         0.92616001,  0.36280178, -0.13427239, -0.02109315, -0.99946466],\n",
       "       [ 0.37664083,  0.58803277,  0.26712264, -0.64269848, -0.87718194,\n",
       "         0.92615951,  0.36280178, -0.13422149, -0.02109315, -0.99961865],\n",
       "       [ 0.37664083,  0.58803277,  0.26712264, -0.64490417, -0.87710317,\n",
       "         0.92615982,  0.36280178, -0.13422149, -0.02109317, -0.99945752]])"
      ]
     },
     "execution_count": 36,
     "metadata": {},
     "output_type": "execute_result"
    }
   ],
   "source": [
    "pers_array_hist_1[10000,:,:]"
   ]
  },
  {
   "cell_type": "code",
   "execution_count": 37,
   "metadata": {},
   "outputs": [
    {
     "data": {
      "text/plain": [
       "<matplotlib.collections.PathCollection at 0x2413d438550>"
      ]
     },
     "execution_count": 37,
     "metadata": {},
     "output_type": "execute_result"
    },
    {
     "data": {
      "image/png": "[encoded data removed]",
      "text/plain": [
       "<Figure size 432x288 with 1 Axes>"
      ]
     },
     "metadata": {
      "needs_background": "light"
     },
     "output_type": "display_data"
    }
   ],
   "source": [
    "plt.scatter(pers_array_hist_1[0,:,:].mean(axis=0),pers_array_hist_1[10000,2,:])"
   ]
  },
  {
   "cell_type": "code",
   "execution_count": 38,
   "metadata": {},
   "outputs": [
    {
     "data": {
      "text/plain": [
       "<matplotlib.collections.PathCollection at 0x2413d49ada0>"
      ]
     },
     "execution_count": 38,
     "metadata": {},
     "output_type": "execute_result"
    },
    {
     "data": {
      "image/png": "[encoded data removed]",
      "text/plain": [
       "<Figure size 432x288 with 1 Axes>"
      ]
     },
     "metadata": {
      "needs_background": "light"
     },
     "output_type": "display_data"
    }
   ],
   "source": [
    "plt.scatter(((np.ones(grp_1.impr_array.shape) - grp_1.impr_array) * pers_array_hist_1[0,:,:]).mean(axis=0),pers_array_hist_1[10000,2,:])"
   ]
  },
  {
   "cell_type": "code",
   "execution_count": 39,
   "metadata": {},
   "outputs": [
    {
     "data": {
      "text/plain": [
       "<matplotlib.collections.PathCollection at 0x2413d50c1d0>"
      ]
     },
     "execution_count": 39,
     "metadata": {},
     "output_type": "execute_result"
    },
    {
     "data": {
      "image/png": "[encoded data removed]",
      "text/plain": [
       "<Figure size 432x288 with 1 Axes>"
      ]
     },
     "metadata": {
      "needs_background": "light"
     },
     "output_type": "display_data"
    }
   ],
   "source": [
    "plt.scatter((grp_1.impr_array * pers_array_hist_1[0,:,:]).mean(axis=0),pers_array_hist_1[10000,2,:])"
   ]
  },
  {
   "cell_type": "code",
   "execution_count": 40,
   "metadata": {},
   "outputs": [
    {
     "data": {
      "text/plain": [
       "array([[0.99325923, 0.74659118, 0.39524468, 0.20297465, 0.49089287,\n",
       "        0.42160903, 0.96585558, 0.3789797 , 0.35068147, 0.25760484],\n",
       "       [0.74659118, 0.93483469, 0.06153982, 0.2029354 , 0.76574299,\n",
       "        0.40493957, 0.62758269, 0.80836306, 0.69030823, 0.25355482],\n",
       "       [0.39524468, 0.06153982, 0.99026573, 0.73909626, 0.38589422,\n",
       "        0.59237299, 0.36360629, 0.1704357 , 0.66953154, 0.32493985],\n",
       "       [0.20297465, 0.2029354 , 0.73909626, 0.98921987, 0.72298056,\n",
       "        0.7514314 , 0.50879579, 0.32836449, 0.48483486, 0.94196552],\n",
       "       [0.49089287, 0.76574299, 0.38589422, 0.72298056, 0.99562778,\n",
       "        0.71409483, 0.75056581, 0.94570955, 0.96686217, 0.59043882],\n",
       "       [0.42160903, 0.40493957, 0.59237299, 0.7514314 , 0.71409483,\n",
       "        0.99019029, 0.54844064, 0.78096777, 0.8993617 , 0.64286657],\n",
       "       [0.96585558, 0.62758269, 0.36360629, 0.50879579, 0.75056581,\n",
       "        0.54844064, 0.98280279, 0.58692968, 0.27822749, 0.69686139],\n",
       "       [0.3789797 , 0.80836306, 0.1704357 , 0.32836449, 0.94570955,\n",
       "        0.78096777, 0.58692968, 0.9722254 , 0.81826377, 0.4731603 ],\n",
       "       [0.35068147, 0.69030823, 0.66953154, 0.48483486, 0.96686217,\n",
       "        0.8993617 , 0.27822749, 0.81826377, 0.99801227, 0.43269212],\n",
       "       [0.25760484, 0.25355482, 0.32493985, 0.94196552, 0.59043882,\n",
       "        0.64286657, 0.69686139, 0.4731603 , 0.43269212, 0.99315113]])"
      ]
     },
     "execution_count": 40,
     "metadata": {},
     "output_type": "execute_result"
    }
   ],
   "source": [
    "grp_1.bonds_history[0]"
   ]
  },
  {
   "cell_type": "code",
   "execution_count": 41,
   "metadata": {},
   "outputs": [
    {
     "data": {
      "text/plain": [
       "array([[0.        , 2.31530307, 2.66113851, 2.27766795, 2.6680038 ,\n",
       "        1.53287173, 1.39141083, 2.52207985, 2.70524601, 1.96491506],\n",
       "       [2.31530307, 0.        , 2.57892317, 2.24464197, 2.62527467,\n",
       "        1.59665787, 1.33691722, 2.49500843, 2.66267511, 1.92237265],\n",
       "       [2.66113851, 2.57892317, 0.        , 2.57446943, 2.98003815,\n",
       "        1.76727671, 1.64847495, 2.75106886, 3.0465821 , 2.21674491],\n",
       "       [2.27766795, 2.24464197, 2.57446943, 0.        , 2.58067253,\n",
       "        1.67891367, 1.2359599 , 2.46728309, 2.63913135, 1.90624012],\n",
       "       [2.6680038 , 2.62527467, 2.98003815, 2.58067253, 0.        ,\n",
       "        1.76718095, 1.36876347, 2.84940549, 3.13526122, 2.29309103],\n",
       "       [1.53287173, 1.59665787, 1.76727671, 1.67891367, 1.76718095,\n",
       "        0.        , 0.37821564, 1.97186472, 1.89020734, 1.360818  ],\n",
       "       [1.39141083, 1.33691722, 1.64847495, 1.2359599 , 1.36876347,\n",
       "        0.37821564, 0.        , 1.11850267, 1.47555592, 0.84986229],\n",
       "       [2.52207985, 2.49500843, 2.75106886, 2.46728309, 2.84940549,\n",
       "        1.97186472, 1.11850267, 0.        , 2.88206303, 2.17146223],\n",
       "       [2.70524601, 2.66267511, 3.0465821 , 2.63913135, 3.13526122,\n",
       "        1.89020734, 1.47555592, 2.88206303, 0.        , 2.18422979],\n",
       "       [1.96491506, 1.92237265, 2.21674491, 1.90624012, 2.29309103,\n",
       "        1.360818  , 0.84986229, 2.17146223, 2.18422979, 0.        ]])"
      ]
     },
     "execution_count": 41,
     "metadata": {},
     "output_type": "execute_result"
    }
   ],
   "source": [
    "grp_1.bonds_history[100]"
   ]
  },
  {
   "cell_type": "markdown",
   "metadata": {},
   "source": [
    "### Trying to see if copies lead to the same solution \n",
    "Is the system chaotic?"
   ]
  },
  {
   "cell_type": "code",
   "execution_count": 155,
   "metadata": {},
   "outputs": [],
   "source": [
    "grp_2 = group(random_config_1,10,rng,independence=1,learning_rate=1)"
   ]
  },
  {
   "cell_type": "code",
   "execution_count": 156,
   "metadata": {},
   "outputs": [],
   "source": [
    "grp_2_1 = copy.deepcopy(grp_2)"
   ]
  },
  {
   "cell_type": "code",
   "execution_count": 157,
   "metadata": {},
   "outputs": [
    {
     "name": "stdout",
     "output_type": "stream",
     "text": [
      "Beginning simulation. Will run for 10000 iterations\n",
      "Initial pers_array:\n",
      "[[-0.84574793  0.35559542 -0.49707963  0.97538428 -0.72831058  0.21093904\n",
      "   0.07938885 -0.01498696 -0.68097059  0.62111142]\n",
      " [-0.51476335  0.48996309 -0.1360283  -0.99789698  0.71906689  0.6710591\n",
      "   0.97054976 -0.43170347  0.99075511 -0.65232223]\n",
      " [ 0.65369986 -0.55311934 -0.46562595  0.14082283 -0.7526724  -0.64544297\n",
      "   0.33064829 -0.80159568 -0.67702598 -0.98425191]\n",
      " [-0.00673264 -0.9115931  -0.01801027 -0.98423611  0.40524453  0.37700294\n",
      "  -0.15006108 -0.08192715 -0.9851877   0.61622234]\n",
      " [ 0.63388208  0.85580935  0.4035271   0.97445326 -0.81408533 -0.37156446\n",
      "   0.09101095 -0.04440875 -0.75813997 -0.11274998]\n",
      " [ 0.69304786 -0.34732693 -0.5658845  -0.30648963  0.94306425  0.95192649\n",
      "  -0.53256355 -0.32385035  0.99593154 -0.37470854]\n",
      " [-0.87714512  0.04145023 -0.85825443  0.41318476  0.49642844 -0.9504982\n",
      "  -0.24444171 -0.43538884 -0.7246472   0.34512675]\n",
      " [-0.05569839 -0.34362505  0.95308017 -0.35088944  0.95546641 -0.94754066\n",
      "  -0.99821321  0.19941139 -0.70882286 -0.56183388]\n",
      " [ 0.56398234 -0.12856408 -0.752707   -0.17334971  0.52456902 -0.95705415\n",
      "  -0.81786873 -0.7349285   0.60270365  0.08152885]\n",
      " [ 0.55649807 -0.82202403  0.88808699 -0.99722138  0.52358998  0.08461523\n",
      "  -0.0639485  -0.51411242  0.81625175  0.18501567]]\n",
      "pers_array after simulation for 9999 iterations:\n",
      "[[ 0.28853949 -0.177674    0.89789483  0.92371632  0.30814707 -0.27515128\n",
      "  -0.50125681 -0.02901912  0.81659803  0.51620995]\n",
      " [ 0.28657168 -0.17767413  0.89787357  0.92371632  0.69438993 -0.27515126\n",
      "  -0.50125681 -0.02911652  0.81771545  0.51620995]\n",
      " [ 0.28833016 -0.17767413  0.89788646  0.92371632  0.30804249 -0.27515233\n",
      "  -0.50125681 -0.029024    0.81659985  0.51620995]\n",
      " [ 0.2882328  -0.17767413  0.89789295  0.92371632  0.39963255 -0.27515126\n",
      "  -0.50125681 -0.07086058  0.81660173  0.51620995]\n",
      " [ 0.63299808 -0.17767404  0.89767745  0.92371632 -0.21072897 -0.27515144\n",
      "  -0.50125681 -0.02901879  0.81661653  0.51620995]\n",
      " [ 0.28865682 -0.17767454  0.89778205  0.92371632  0.32209272 -0.27515132\n",
      "  -0.50125681 -0.0289617   0.81659784  0.51620995]\n",
      " [ 0.28820729 -0.17767396  0.86862009  0.92371632  0.30817735 -0.27515129\n",
      "  -0.50125681 -0.03023428  0.81659892  0.51620995]\n",
      " [-0.05115141 -0.17767412  0.93908259  0.92371632  0.31019164 -0.27515464\n",
      "  -0.50125681  0.01517418  0.81660175  0.51620995]\n",
      " [ 0.28873772 -0.17767413  0.89785719  0.92371632  0.30815144 -0.27515128\n",
      "  -0.50125681 -0.02890915  0.81660319  0.51620995]\n",
      " [ 0.28832209 -0.17767413  0.88695523  0.92371632  0.30792017 -0.27514644\n",
      "  -0.50125681 -0.02902496  0.81538867  0.51620995]]\n"
     ]
    }
   ],
   "source": [
    "grp_2_1.run_sim(10000)"
   ]
  },
  {
   "cell_type": "code",
   "execution_count": 158,
   "metadata": {},
   "outputs": [],
   "source": [
    "pers_array_hist_2_1 = np.array(grp_2_1.pers_array_history)"
   ]
  },
  {
   "cell_type": "code",
   "execution_count": 159,
   "metadata": {},
   "outputs": [
    {
     "data": {
      "text/plain": [
       "(10001, 10, 10)"
      ]
     },
     "execution_count": 159,
     "metadata": {},
     "output_type": "execute_result"
    }
   ],
   "source": [
    "pers_array_hist_2_1.shape"
   ]
  },
  {
   "cell_type": "code",
   "execution_count": 160,
   "metadata": {},
   "outputs": [],
   "source": [
    "# grp_2_2 = copy.deepcopy(grp_2)\n",
    "grp_2_2 = group(random_config_1,10,rng,independence=1,learning_rate=1)"
   ]
  },
  {
   "cell_type": "code",
   "execution_count": 161,
   "metadata": {},
   "outputs": [],
   "source": [
    "# grp_2_2.impr_array = copy.deepcopy(grp_1.impr_array)\n",
    "grp_2_2.set_impr_array(copy.deepcopy(grp_2.impr_array))\n",
    "grp_2_2.set_pers_array(copy.deepcopy(grp_2.pers_array))"
   ]
  },
  {
   "cell_type": "code",
   "execution_count": 162,
   "metadata": {},
   "outputs": [
    {
     "name": "stdout",
     "output_type": "stream",
     "text": [
      "Beginning simulation. Will run for 10000 iterations\n",
      "Initial pers_array:\n",
      "[[-0.84574793  0.35559542 -0.49707963  0.97538428 -0.72831058  0.21093904\n",
      "   0.07938885 -0.01498696 -0.68097059  0.62111142]\n",
      " [-0.51476335  0.48996309 -0.1360283  -0.99789698  0.71906689  0.6710591\n",
      "   0.97054976 -0.43170347  0.99075511 -0.65232223]\n",
      " [ 0.65369986 -0.55311934 -0.46562595  0.14082283 -0.7526724  -0.64544297\n",
      "   0.33064829 -0.80159568 -0.67702598 -0.98425191]\n",
      " [-0.00673264 -0.9115931  -0.01801027 -0.98423611  0.40524453  0.37700294\n",
      "  -0.15006108 -0.08192715 -0.9851877   0.61622234]\n",
      " [ 0.63388208  0.85580935  0.4035271   0.97445326 -0.81408533 -0.37156446\n",
      "   0.09101095 -0.04440875 -0.75813997 -0.11274998]\n",
      " [ 0.69304786 -0.34732693 -0.5658845  -0.30648963  0.94306425  0.95192649\n",
      "  -0.53256355 -0.32385035  0.99593154 -0.37470854]\n",
      " [-0.87714512  0.04145023 -0.85825443  0.41318476  0.49642844 -0.9504982\n",
      "  -0.24444171 -0.43538884 -0.7246472   0.34512675]\n",
      " [-0.05569839 -0.34362505  0.95308017 -0.35088944  0.95546641 -0.94754066\n",
      "  -0.99821321  0.19941139 -0.70882286 -0.56183388]\n",
      " [ 0.56398234 -0.12856408 -0.752707   -0.17334971  0.52456902 -0.95705415\n",
      "  -0.81786873 -0.7349285   0.60270365  0.08152885]\n",
      " [ 0.55649807 -0.82202403  0.88808699 -0.99722138  0.52358998  0.08461523\n",
      "  -0.0639485  -0.51411242  0.81625175  0.18501567]]\n",
      "pers_array after simulation for 9999 iterations:\n",
      "[[ 0.28853949 -0.177674    0.89789483  0.92371632  0.30814707 -0.27515128\n",
      "  -0.50125681 -0.02901912  0.81659803  0.51620995]\n",
      " [ 0.28657168 -0.17767413  0.89787357  0.92371632  0.69438993 -0.27515126\n",
      "  -0.50125681 -0.02911652  0.81771545  0.51620995]\n",
      " [ 0.28833016 -0.17767413  0.89788646  0.92371632  0.30804249 -0.27515233\n",
      "  -0.50125681 -0.029024    0.81659985  0.51620995]\n",
      " [ 0.2882328  -0.17767413  0.89789295  0.92371632  0.39963255 -0.27515126\n",
      "  -0.50125681 -0.07086058  0.81660173  0.51620995]\n",
      " [ 0.63299808 -0.17767404  0.89767745  0.92371632 -0.21072897 -0.27515144\n",
      "  -0.50125681 -0.02901879  0.81661653  0.51620995]\n",
      " [ 0.28865682 -0.17767454  0.89778205  0.92371632  0.32209272 -0.27515132\n",
      "  -0.50125681 -0.0289617   0.81659784  0.51620995]\n",
      " [ 0.28820729 -0.17767396  0.86862009  0.92371632  0.30817735 -0.27515129\n",
      "  -0.50125681 -0.03023428  0.81659892  0.51620995]\n",
      " [-0.05115141 -0.17767412  0.93908259  0.92371632  0.31019164 -0.27515464\n",
      "  -0.50125681  0.01517418  0.81660175  0.51620995]\n",
      " [ 0.28873772 -0.17767413  0.89785719  0.92371632  0.30815144 -0.27515128\n",
      "  -0.50125681 -0.02890915  0.81660319  0.51620995]\n",
      " [ 0.28832209 -0.17767413  0.88695523  0.92371632  0.30792017 -0.27514644\n",
      "  -0.50125681 -0.02902496  0.81538867  0.51620995]]\n"
     ]
    }
   ],
   "source": [
    "grp_2_2.run_sim(10000)"
   ]
  },
  {
   "cell_type": "code",
   "execution_count": 186,
   "metadata": {},
   "outputs": [
    {
     "name": "stdout",
     "output_type": "stream",
     "text": [
      "Beginning simulation. Will run for 20000 iterations\n",
      "Initial pers_array:\n",
      "[[ 0.30030924 -0.17767439  0.91082138  0.92371632  0.43975066 -0.27514931\n",
      "  -0.50125681 -0.04380633  0.81542303  0.51620995]\n",
      " [ 0.29997672 -0.17767439  0.91082333  0.92371632  0.65735503 -0.27514931\n",
      "  -0.50125681 -0.04343453  0.81542354  0.51620995]\n",
      " [ 0.3002456  -0.17767439  0.91082153  0.92371632  0.43969426 -0.27514931\n",
      "  -0.50125681 -0.04380846  0.81542303  0.51620995]\n",
      " [ 0.30045262 -0.17767439  0.91082103  0.92371632  0.39780186 -0.27514931\n",
      "  -0.50125681 -0.05130795  0.81542303  0.51620995]\n",
      " [ 0.63143941 -0.17767439  0.91074015  0.92371632  0.27314544 -0.27514931\n",
      "  -0.50125681 -0.04377996  0.81542304  0.51620995]\n",
      " [ 0.30040067 -0.17767439  0.91082304  0.92371632  0.42506984 -0.27514931\n",
      "  -0.50125681 -0.0437799   0.81542303  0.51620995]\n",
      " [ 0.30020552 -0.17767439  0.91096096  0.92371632  0.43975419 -0.27514931\n",
      "  -0.50125681 -0.04329125  0.81542303  0.51620995]\n",
      " [-0.04103246 -0.17767439  0.93465054  0.92371632  0.44034737 -0.27514931\n",
      "  -0.50125681 -0.03720665  0.81542303  0.51620995]\n",
      " [ 0.30037324 -0.17767439  0.91082196  0.92371632  0.43975351 -0.27514931\n",
      "  -0.50125681 -0.04375422  0.81542303  0.51620995]\n",
      " [ 0.30025519 -0.17767439  0.88736652  0.92371632  0.4396274  -0.27514931\n",
      "  -0.50125681 -0.04380861  0.81542248  0.51620995]]\n",
      "pers_array after simulation for 19999 iterations:\n",
      "[[ 0.30702183 -0.17767439  0.90917345  0.92371632  0.4911469  -0.27514931\n",
      "  -0.50125681 -0.04672749  0.81542249  0.51620995]\n",
      " [ 0.30695366 -0.17767439  0.9091748   0.92371632  0.63508719 -0.27514931\n",
      "  -0.50125681 -0.04666489  0.81542249  0.51620995]\n",
      " [ 0.30697748 -0.17767439  0.90917359  0.92371632  0.49112733 -0.27514931\n",
      "  -0.50125681 -0.04672785  0.81542249  0.51620995]\n",
      " [ 0.30713494 -0.17767439  0.90917286  0.92371632  0.405813   -0.27514931\n",
      "  -0.50125681 -0.04798399  0.81542249  0.51620995]\n",
      " [ 0.62992353 -0.17767439  0.90910471  0.92371632  0.43468576 -0.27514931\n",
      "  -0.50125681 -0.04672265  0.81542249  0.51620995]\n",
      " [ 0.30707057 -0.17767439  0.90917511  0.92371632  0.48596121 -0.27514931\n",
      "  -0.50125681 -0.04672304  0.81542249  0.51620995]\n",
      " [ 0.30694968 -0.17767439  0.90931961  0.92371632  0.49114809 -0.27514931\n",
      "  -0.50125681 -0.046641    0.81542249  0.51620995]\n",
      " [-0.03096148 -0.17767439  0.93091735  0.92371632  0.49134192 -0.27514931\n",
      "  -0.50125681 -0.0456312   0.81542249  0.51620995]\n",
      " [ 0.30706648 -0.17767439  0.90917401  0.92371632  0.4911479  -0.27514931\n",
      "  -0.50125681 -0.04671875  0.81542249  0.51620995]\n",
      " [ 0.30698893 -0.17767439  0.8877756   0.92371632  0.49110467 -0.27514931\n",
      "  -0.50125681 -0.04672787  0.81542249  0.51620995]]\n"
     ]
    }
   ],
   "source": [
    "grp_2_2.run_sim(20000)"
   ]
  },
  {
   "cell_type": "code",
   "execution_count": 183,
   "metadata": {},
   "outputs": [],
   "source": [
    "pers_array_hist_2_2 = np.array(grp_2_2.pers_array_history)"
   ]
  },
  {
   "cell_type": "code",
   "execution_count": 184,
   "metadata": {},
   "outputs": [
    {
     "data": {
      "text/plain": [
       "(30001, 10, 10)"
      ]
     },
     "execution_count": 184,
     "metadata": {},
     "output_type": "execute_result"
    }
   ],
   "source": [
    "pers_array_hist_2_2.shape"
   ]
  },
  {
   "cell_type": "code",
   "execution_count": 165,
   "metadata": {},
   "outputs": [
    {
     "data": {
      "text/plain": [
       "[<matplotlib.lines.Line2D at 0x2414386fd30>]"
      ]
     },
     "execution_count": 165,
     "metadata": {},
     "output_type": "execute_result"
    },
    {
     "data": {
      "image/png": "[encoded data removed]",
      "text/plain": [
       "<Figure size 432x288 with 1 Axes>"
      ]
     },
     "metadata": {
      "needs_background": "light"
     },
     "output_type": "display_data"
    }
   ],
   "source": [
    "pers_idx=1\n",
    "plt.scatter(pers_array_hist_2_1[:,pers_idx,0],pers_array_hist_2_1[:,pers_idx,1],alpha=0.01)\n",
    "plt.plot(pers_array_hist_2_1[:,pers_idx,0],pers_array_hist_2_1[:,pers_idx,1],alpha=0.5)"
   ]
  },
  {
   "cell_type": "code",
   "execution_count": 181,
   "metadata": {},
   "outputs": [
    {
     "data": {
      "text/plain": [
       "[<matplotlib.lines.Line2D at 0x24147d76d30>]"
      ]
     },
     "execution_count": 181,
     "metadata": {},
     "output_type": "execute_result"
    },
    {
     "data": {
      "image/png": "[encoded data removed]",
      "text/plain": [
       "<Figure size 432x288 with 1 Axes>"
      ]
     },
     "metadata": {
      "needs_background": "light"
     },
     "output_type": "display_data"
    }
   ],
   "source": [
    "pers_idx=1\n",
    "plt.plot(pers_array_hist_2_1[:,pers_idx,4])"
   ]
  },
  {
   "cell_type": "code",
   "execution_count": 167,
   "metadata": {},
   "outputs": [
    {
     "data": {
      "text/plain": [
       "[<matplotlib.lines.Line2D at 0x2414788db00>]"
      ]
     },
     "execution_count": 167,
     "metadata": {},
     "output_type": "execute_result"
    },
    {
     "data": {
      "image/png": "[encoded data removed]",
      "text/plain": [
       "<Figure size 432x288 with 1 Axes>"
      ]
     },
     "metadata": {
      "needs_background": "light"
     },
     "output_type": "display_data"
    }
   ],
   "source": [
    "pers_idx=1\n",
    "plt.scatter(pers_array_hist_2_2[:,pers_idx,0],pers_array_hist_2_2[:,pers_idx,1],alpha=0.01)\n",
    "plt.plot(pers_array_hist_2_2[:,pers_idx,0],pers_array_hist_2_2[:,pers_idx,1],alpha=0.5)"
   ]
  },
  {
   "cell_type": "code",
   "execution_count": 185,
   "metadata": {},
   "outputs": [
    {
     "data": {
      "text/plain": [
       "[<matplotlib.lines.Line2D at 0x24147d9c8d0>]"
      ]
     },
     "execution_count": 185,
     "metadata": {},
     "output_type": "execute_result"
    },
    {
     "data": {
      "image/png": "[encoded data removed]",
      "text/plain": [
       "<Figure size 432x288 with 1 Axes>"
      ]
     },
     "metadata": {
      "needs_background": "light"
     },
     "output_type": "display_data"
    }
   ],
   "source": [
    "pers_idx=1\n",
    "plt.plot(pers_array_hist_2_2[:,pers_idx,4])"
   ]
  },
  {
   "cell_type": "code",
   "execution_count": 152,
   "metadata": {},
   "outputs": [
    {
     "data": {
      "text/plain": [
       "array([[ True,  True,  True,  True,  True,  True,  True,  True,  True,\n",
       "         True],\n",
       "       [ True,  True,  True,  True,  True,  True,  True,  True,  True,\n",
       "         True],\n",
       "       [ True,  True,  True,  True,  True,  True,  True,  True,  True,\n",
       "         True],\n",
       "       [ True,  True,  True,  True,  True,  True,  True,  True,  True,\n",
       "         True],\n",
       "       [ True,  True,  True,  True,  True,  True,  True,  True,  True,\n",
       "         True],\n",
       "       [ True,  True,  True,  True,  True,  True,  True,  True,  True,\n",
       "         True],\n",
       "       [ True,  True,  True,  True,  True,  True,  True,  True,  True,\n",
       "         True],\n",
       "       [ True,  True,  True,  True,  True,  True,  True,  True,  True,\n",
       "         True],\n",
       "       [ True,  True,  True,  True,  True,  True,  True,  True,  True,\n",
       "         True],\n",
       "       [ True,  True,  True,  True,  True,  True,  True,  True,  True,\n",
       "         True]])"
      ]
     },
     "execution_count": 152,
     "metadata": {},
     "output_type": "execute_result"
    }
   ],
   "source": [
    "pers_array_hist_2_1[100,:,:]==pers_array_hist_2_2[100,:,:]"
   ]
  },
  {
   "cell_type": "code",
   "execution_count": 89,
   "metadata": {},
   "outputs": [
    {
     "data": {
      "text/plain": [
       "array([[False, False, False, False, False, False, False, False, False,\n",
       "        False],\n",
       "       [False, False, False, False, False, False, False, False, False,\n",
       "        False],\n",
       "       [False, False, False, False, False, False, False, False, False,\n",
       "        False],\n",
       "       [False, False, False, False, False, False, False, False, False,\n",
       "        False],\n",
       "       [False, False, False, False, False, False, False, False, False,\n",
       "        False],\n",
       "       [False, False, False, False, False, False, False, False, False,\n",
       "        False],\n",
       "       [False, False, False, False, False, False, False, False, False,\n",
       "        False],\n",
       "       [False, False, False, False, False, False, False, False, False,\n",
       "        False],\n",
       "       [False, False, False, False, False, False, False, False, False,\n",
       "        False],\n",
       "       [False, False, False, False, False, False, False, False, False,\n",
       "        False]])"
      ]
     },
     "execution_count": 89,
     "metadata": {},
     "output_type": "execute_result"
    }
   ],
   "source": [
    "grp_2_1.impr_array==grp_2_2.impr_array"
   ]
  }
 ],
 "metadata": {
  "kernelspec": {
   "display_name": "Python 3",
   "language": "python",
   "name": "python3"
  },
  "language_info": {
   "codemirror_mode": {
    "name": "ipython",
    "version": 3
   },
   "file_extension": ".py",
   "mimetype": "text/x-python",
   "name": "python",
   "nbconvert_exporter": "python",
   "pygments_lexer": "ipython3",
   "version": "3.7.1"
  }
 },
 "nbformat": 4,
 "nbformat_minor": 2
}
